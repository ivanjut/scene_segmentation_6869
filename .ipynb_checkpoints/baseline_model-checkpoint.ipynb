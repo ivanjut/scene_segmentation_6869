{
 "cells": [
  {
   "cell_type": "code",
   "execution_count": 1,
   "metadata": {},
   "outputs": [],
   "source": [
    "from PIL import Image\n",
    "import cv2\n",
    "import matplotlib.pyplot as plt\n",
    "%matplotlib inline\n",
    "import torch\n",
    "import numpy as np\n",
    "import pandas as pd\n",
    "import pickle as pkl\n",
    "from torchvision import models, transforms, io\n",
    "from torch.utils.data import Dataset, DataLoader\n",
    "import utils\n",
    "import os"
   ]
  },
  {
   "cell_type": "markdown",
   "metadata": {},
   "source": [
    "## Data Loading"
   ]
  },
  {
   "cell_type": "code",
   "execution_count": 3,
   "metadata": {},
   "outputs": [],
   "source": [
    "DATASET_PATH = '../ADE20K_2021_17_01/'\n",
    "index_file = 'index_ade20k.pkl'\n",
    "with open('{}/{}'.format(DATASET_PATH, index_file), 'rb') as f:\n",
    "    index_ade20k = pkl.load(f)"
   ]
  },
  {
   "cell_type": "code",
   "execution_count": 4,
   "metadata": {},
   "outputs": [],
   "source": [
    "objects_mat = index_ade20k['objectPresence']"
   ]
  },
  {
   "cell_type": "code",
   "execution_count": 5,
   "metadata": {},
   "outputs": [],
   "source": [
    "# Find 150 most common object IDs and non-common object IDs\n",
    "total_object_counts = np.sum(objects_mat, axis=1)\n",
    "object_count_ids = np.argsort(total_object_counts)[::-1]\n",
    "most_common_obj_ids = object_count_ids[:150]\n",
    "irrelevant_obj_ids = object_count_ids[150:]"
   ]
  },
  {
   "cell_type": "code",
   "execution_count": 216,
   "metadata": {},
   "outputs": [
    {
     "data": {
      "text/plain": [
       "array([3049, 2977, 1830, 2854,  311,  773,  470,  400, 1909,  975, 2419,\n",
       "       1450, 3054, 1734,  446, 2683,  349, 1432, 1179, 1394, 2379,  688,\n",
       "        235, 2130, 2376,  788, 1447, 2615,  686, 2310, 1379,  265, 1124,\n",
       "       3034, 1745, 1609,  837,  248,   53, 2137, 2328, 2271,   82, 1205,\n",
       "       1980,  579, 2508, 1237, 1563,   56,  977,  906,  164, 2931, 2275,\n",
       "       1868,  580, 1097, 1935, 1918, 2472, 2242,  100, 2981, 2121,  135,\n",
       "         85, 2177, 2116,  883, 2052, 1427,  258, 2387,  180, 1430, 2119,\n",
       "       2813, 1212, 1275, 1743, 1438, 3086, 2699,   94, 2050,  723, 2529,\n",
       "        145, 2263,  894, 1973, 2577, 2820,  570,  981, 1211, 2835, 2585,\n",
       "       1624, 1348,   76, 1328, 2369, 1929, 2367, 2154,  529, 2678,   41,\n",
       "         63, 3056, 2422,  222,  953, 1614,  377, 2993, 1755, 1787,  912,\n",
       "       2118,  102,  782,  479, 1023, 2675,  211,  119, 2927, 1001, 2272,\n",
       "        917, 2732, 1032,  136, 2530, 2849, 1968, 2340,  729, 2249, 1429,\n",
       "       2345, 2832, 2900, 2879,  775, 1085,  319])"
      ]
     },
     "execution_count": 216,
     "metadata": {},
     "output_type": "execute_result"
    }
   ],
   "source": [
    "most_common_obj_ids"
   ]
  },
  {
   "cell_type": "code",
   "execution_count": 7,
   "metadata": {},
   "outputs": [],
   "source": [
    "# Find image IDs where no irrelevant objects appear\n",
    "irrelevant_obj_counts = np.sum(objects_mat[irrelevant_obj_ids], axis=0)\n",
    "good_image_ids = np.argwhere(irrelevant_obj_counts == 0).flatten()"
   ]
  },
  {
   "cell_type": "code",
   "execution_count": 8,
   "metadata": {},
   "outputs": [
    {
     "data": {
      "text/plain": [
       "array([   41,    74,   105, ..., 27550, 27556, 27573])"
      ]
     },
     "execution_count": 8,
     "metadata": {},
     "output_type": "execute_result"
    }
   ],
   "source": [
    "good_image_ids"
   ]
  },
  {
   "cell_type": "code",
   "execution_count": 9,
   "metadata": {},
   "outputs": [],
   "source": [
    "# Only common objects included\n",
    "common_objects_mat = objects_mat[np.ix_(most_common_obj_ids, good_image_ids)]"
   ]
  },
  {
   "cell_type": "code",
   "execution_count": 10,
   "metadata": {},
   "outputs": [],
   "source": [
    "train_image_ids = []\n",
    "validation_image_ids = []\n",
    "\n",
    "for i in good_image_ids:\n",
    "    if 'training' in index_ade20k['folder'][i]:\n",
    "        train_image_ids.append(i)\n",
    "    elif 'validation' in index_ade20k['folder'][i]:\n",
    "        validation_image_ids.append(i)\n",
    "    else:\n",
    "        raise Exception('Invalid folder name.')"
   ]
  },
  {
   "cell_type": "code",
   "execution_count": 239,
   "metadata": {},
   "outputs": [],
   "source": [
    "class SegmentationDataset(Dataset):\n",
    "    def __init__(self, image_ids, root_dir, index_mat, transform=None, target_transform=None):\n",
    "        \"\"\"\n",
    "        Args:\n",
    "            image_ids (list): list of image IDs from ADE20K\n",
    "            root_dir (string): Directory with all the images.\n",
    "            index_mat (array): object array from index_ade20k.pkl\n",
    "            transform (callable, optional): Optional transform to be applied\n",
    "                on a sample.\n",
    "            target_transform (callable, optional): Optional transform to be applied\n",
    "                on a sample segmentation label.\n",
    "        \"\"\"\n",
    "        self.image_ids = image_ids\n",
    "        self.root_dir = root_dir\n",
    "        self.index_ade20k = index_mat\n",
    "        self.transform = transform\n",
    "        self.target_transform = target_transform\n",
    "\n",
    "    def __len__(self):\n",
    "        return len(self.image_ids)\n",
    "\n",
    "    def __getitem__(self, idx):\n",
    "        image_id = self.image_ids[idx]\n",
    "        img_name = os.path.join(self.root_dir, self.index_ade20k['folder'][image_id], \n",
    "                                self.index_ade20k['filename'][image_id])\n",
    "        img_info = utils.loadAde20K(img_name)\n",
    "        \n",
    "        image = io.read_image(img_info['img_name']).float()\n",
    "        class_mask = Image.fromarray(img_info['class_mask'], mode='I')\n",
    "        \n",
    "        if self.transform:\n",
    "            image = self.transform(image)\n",
    "        if self.target_transform:\n",
    "            label = self.target_transform(class_mask)\n",
    "            \n",
    "        sample = (image, label)\n",
    "\n",
    "        return sample"
   ]
  },
  {
   "cell_type": "code",
   "execution_count": 241,
   "metadata": {},
   "outputs": [],
   "source": [
    "input_size = 224\n",
    "transform = transforms.Compose([\n",
    "                transforms.Resize(input_size),\n",
    "                transforms.CenterCrop(input_size),\n",
    "#                 transforms.ToTensor(),\n",
    "                transforms.Normalize([0.485, 0.456, 0.406], [0.229, 0.224, 0.225])\n",
    "            ])\n",
    "\n",
    "target_transform = transforms.Compose([\n",
    "                transforms.Resize(input_size, interpolation=0),\n",
    "                transforms.CenterCrop(input_size),\n",
    "                transforms.ToTensor()\n",
    "            ])"
   ]
  },
  {
   "cell_type": "code",
   "execution_count": 293,
   "metadata": {},
   "outputs": [],
   "source": [
    "training_data = SegmentationDataset(train_image_ids[:4], '../', index_ade20k, transform=transform, target_transform=target_transform)"
   ]
  },
  {
   "cell_type": "code",
   "execution_count": 294,
   "metadata": {},
   "outputs": [],
   "source": [
    "train_dataloader = DataLoader(training_data, batch_size=2, shuffle=False)"
   ]
  },
  {
   "cell_type": "code",
   "execution_count": 244,
   "metadata": {
    "scrolled": true
   },
   "outputs": [
    {
     "name": "stdout",
     "output_type": "stream",
     "text": [
      "Feature batch shape: torch.Size([5, 3, 224, 224])\n",
      "Labels batch shape: torch.Size([5, 1, 224, 224])\n"
     ]
    },
    {
     "data": {
      "text/plain": [
       "<matplotlib.image.AxesImage at 0x13d49a550>"
      ]
     },
     "execution_count": 244,
     "metadata": {},
     "output_type": "execute_result"
    },
    {
     "data": {
      "image/png": "[encoded data removed]",
      "text/plain": [
       "<Figure size 432x288 with 1 Axes>"
      ]
     },
     "metadata": {
      "needs_background": "light"
     },
     "output_type": "display_data"
    }
   ],
   "source": [
    "train_images, train_labels = next(iter(train_dataloader))\n",
    "# print(train_images)\n",
    "print(f\"Feature batch shape: {train_images.size()}\")\n",
    "print(f\"Labels batch shape: {train_labels.size()}\")\n",
    "img = train_images[2].permute(1,2,0)\n",
    "img /= img.max()\n",
    "label = train_labels[2].squeeze()\n",
    "# label /= label.max()\n",
    "# plt.imshow(np.concatenate([img, label], 1))\n",
    "# plt.imshow(img)\n",
    "for num in label.flatten():\n",
    "    obj_id = num.numpy() - 1\n",
    "    if obj_id not in most_common_obj_ids and obj_id + 1 != 0:\n",
    "        print(\"UH OH: \", obj_id) \n",
    "plt.imshow(label)"
   ]
  },
  {
   "cell_type": "markdown",
   "metadata": {},
   "source": [
    "## EXAMPLE TEST"
   ]
  },
  {
   "cell_type": "code",
   "execution_count": 189,
   "metadata": {},
   "outputs": [
    {
     "name": "stdout",
     "output_type": "stream",
     "text": [
      "41\n",
      "../ADE20K_2021_17_01/images/ADE/training/home_or_hotel/bathroom/ADE_train_00000042.jpg\n",
      "[[   0    0    0 ... 2978 2978 2978]\n",
      " [   0    0  774 ... 2978 2978 2978]\n",
      " [   0    0  774 ... 2978 2978 2978]\n",
      " ...\n",
      " [   0    0 2978 ... 2978 2978 2978]\n",
      " [   0    0 2978 ... 2978 2978 2978]\n",
      " [   0    0    0 ...    0    0    0]]\n",
      "(536, 402)\n"
     ]
    },
    {
     "data": {
      "image/png": "[encoded data removed]",
      "text/plain": [
       "<Figure size 432x288 with 1 Axes>"
      ]
     },
     "metadata": {
      "needs_background": "light"
     },
     "output_type": "display_data"
    }
   ],
   "source": [
    "for i in train_image_ids[:1]:\n",
    "    print(i)\n",
    "#     print(index_ade20k['folder'][i], index_ade20k['filename'][i])\n",
    "    full_file_name = '../{}/{}'.format(index_ade20k['folder'][i], index_ade20k['filename'][i])\n",
    "    print(full_file_name)\n",
    "    info = utils.loadAde20K(full_file_name)\n",
    "#     img = cv2.imread(info['img_name'])[:,:,::-1]\n",
    "#     seg = cv2.imread(info['segm_name'])[:,:,::-1]\n",
    "    classmask = info['class_mask']\n",
    "# #     seg_mask = seg.copy()\n",
    "\n",
    "# #     The 0 index in seg_mask corresponds to background (not annotated) pixels\n",
    "# #     seg_mask[info['class_mask'] != obj_id+1] *= 0\n",
    "#     plt.figure(figsize=(10,5))\n",
    "\n",
    "#     plt.imshow(np.concatenate([img, seg], 1))\n",
    "#     plt.axis('off')\n",
    "#     print(img.shape)\n",
    "    print(classmask)\n",
    "    print(classmask.shape)\n",
    "    plt.imshow(classmask)\n",
    "    "
   ]
  },
  {
   "cell_type": "markdown",
   "metadata": {},
   "source": [
    "## Load model"
   ]
  },
  {
   "cell_type": "code",
   "execution_count": 229,
   "metadata": {},
   "outputs": [],
   "source": [
    "model = models.segmentation.fcn_resnet50(pretrained=False, num_classes=151)"
   ]
  },
  {
   "cell_type": "code",
   "execution_count": 267,
   "metadata": {},
   "outputs": [],
   "source": [
    "# Maps {obj_ids: 0-149}\n",
    "obj_id_map = {sorted(most_common_obj_ids)[idx]: idx + 1 for idx in range(150)}\n",
    "obj_id_map[-1] = 0"
   ]
  },
  {
   "cell_type": "code",
   "execution_count": 268,
   "metadata": {},
   "outputs": [
    {
     "data": {
      "text/plain": [
       "{41: 1,\n",
       " 53: 2,\n",
       " 56: 3,\n",
       " 63: 4,\n",
       " 76: 5,\n",
       " 82: 6,\n",
       " 85: 7,\n",
       " 94: 8,\n",
       " 100: 9,\n",
       " 102: 10,\n",
       " 119: 11,\n",
       " 135: 12,\n",
       " 136: 13,\n",
       " 145: 14,\n",
       " 164: 15,\n",
       " 180: 16,\n",
       " 211: 17,\n",
       " 222: 18,\n",
       " 235: 19,\n",
       " 248: 20,\n",
       " 258: 21,\n",
       " 265: 22,\n",
       " 311: 23,\n",
       " 319: 24,\n",
       " 349: 25,\n",
       " 377: 26,\n",
       " 400: 27,\n",
       " 446: 28,\n",
       " 470: 29,\n",
       " 479: 30,\n",
       " 529: 31,\n",
       " 570: 32,\n",
       " 579: 33,\n",
       " 580: 34,\n",
       " 686: 35,\n",
       " 688: 36,\n",
       " 723: 37,\n",
       " 729: 38,\n",
       " 773: 39,\n",
       " 775: 40,\n",
       " 782: 41,\n",
       " 788: 42,\n",
       " 837: 43,\n",
       " 883: 44,\n",
       " 894: 45,\n",
       " 906: 46,\n",
       " 912: 47,\n",
       " 917: 48,\n",
       " 953: 49,\n",
       " 975: 50,\n",
       " 977: 51,\n",
       " 981: 52,\n",
       " 1001: 53,\n",
       " 1023: 54,\n",
       " 1032: 55,\n",
       " 1085: 56,\n",
       " 1097: 57,\n",
       " 1124: 58,\n",
       " 1179: 59,\n",
       " 1205: 60,\n",
       " 1211: 61,\n",
       " 1212: 62,\n",
       " 1237: 63,\n",
       " 1275: 64,\n",
       " 1328: 65,\n",
       " 1348: 66,\n",
       " 1379: 67,\n",
       " 1394: 68,\n",
       " 1427: 69,\n",
       " 1429: 70,\n",
       " 1430: 71,\n",
       " 1432: 72,\n",
       " 1438: 73,\n",
       " 1447: 74,\n",
       " 1450: 75,\n",
       " 1563: 76,\n",
       " 1609: 77,\n",
       " 1614: 78,\n",
       " 1624: 79,\n",
       " 1734: 80,\n",
       " 1743: 81,\n",
       " 1745: 82,\n",
       " 1755: 83,\n",
       " 1787: 84,\n",
       " 1830: 85,\n",
       " 1868: 86,\n",
       " 1909: 87,\n",
       " 1918: 88,\n",
       " 1929: 89,\n",
       " 1935: 90,\n",
       " 1968: 91,\n",
       " 1973: 92,\n",
       " 1980: 93,\n",
       " 2050: 94,\n",
       " 2052: 95,\n",
       " 2116: 96,\n",
       " 2118: 97,\n",
       " 2119: 98,\n",
       " 2121: 99,\n",
       " 2130: 100,\n",
       " 2137: 101,\n",
       " 2154: 102,\n",
       " 2177: 103,\n",
       " 2242: 104,\n",
       " 2249: 105,\n",
       " 2263: 106,\n",
       " 2271: 107,\n",
       " 2272: 108,\n",
       " 2275: 109,\n",
       " 2310: 110,\n",
       " 2328: 111,\n",
       " 2340: 112,\n",
       " 2345: 113,\n",
       " 2367: 114,\n",
       " 2369: 115,\n",
       " 2376: 116,\n",
       " 2379: 117,\n",
       " 2387: 118,\n",
       " 2419: 119,\n",
       " 2422: 120,\n",
       " 2472: 121,\n",
       " 2508: 122,\n",
       " 2529: 123,\n",
       " 2530: 124,\n",
       " 2577: 125,\n",
       " 2585: 126,\n",
       " 2615: 127,\n",
       " 2675: 128,\n",
       " 2678: 129,\n",
       " 2683: 130,\n",
       " 2699: 131,\n",
       " 2732: 132,\n",
       " 2813: 133,\n",
       " 2820: 134,\n",
       " 2832: 135,\n",
       " 2835: 136,\n",
       " 2849: 137,\n",
       " 2854: 138,\n",
       " 2879: 139,\n",
       " 2900: 140,\n",
       " 2927: 141,\n",
       " 2931: 142,\n",
       " 2977: 143,\n",
       " 2981: 144,\n",
       " 2993: 145,\n",
       " 3034: 146,\n",
       " 3049: 147,\n",
       " 3054: 148,\n",
       " 3056: 149,\n",
       " 3086: 150,\n",
       " -1: 0}"
      ]
     },
     "execution_count": 268,
     "metadata": {},
     "output_type": "execute_result"
    }
   ],
   "source": [
    "obj_id_map"
   ]
  },
  {
   "cell_type": "markdown",
   "metadata": {},
   "source": [
    "## Train Model"
   ]
  },
  {
   "cell_type": "code",
   "execution_count": 287,
   "metadata": {},
   "outputs": [],
   "source": [
    "def encode_label(label_arr):\n",
    "    \"\"\"\n",
    "    Encode labels for evaluating loss\n",
    "    label_arr (tensor): B x 1 x H x W\n",
    "    \"\"\"\n",
    "    B, H, W = label_arr.size()[0], label_arr.size()[2], label_arr.size()[3]\n",
    "    encoded_label = np.zeros((B, H, W))\n",
    "    for b in range(B):\n",
    "        for h in range(H):\n",
    "            for w in range(W):\n",
    "                class_id = label_arr[b, 0, h, w].numpy()\n",
    "                new_obj_idx = obj_id_map[class_id - 1]\n",
    "                encoded_label[b, h, w] = new_obj_idx\n",
    "    \n",
    "    return torch.tensor(encoded_label, dtype=torch.long)"
   ]
  },
  {
   "cell_type": "code",
   "execution_count": 295,
   "metadata": {},
   "outputs": [
    {
     "name": "stdout",
     "output_type": "stream",
     "text": [
      "torch.Size([2, 151, 224, 224])\n",
      "torch.Size([2, 224, 224])\n",
      "LOSS:  tensor(4.0107, grad_fn=<NllLoss2DBackward>)\n",
      "torch.Size([2, 151, 224, 224])\n",
      "torch.Size([2, 224, 224])\n",
      "LOSS:  tensor(3.5756, grad_fn=<NllLoss2DBackward>)\n",
      "Epoch 1 - Training loss: 3.7931636571884155\n",
      "torch.Size([2, 151, 224, 224])\n",
      "torch.Size([2, 224, 224])\n",
      "LOSS:  tensor(2.4530, grad_fn=<NllLoss2DBackward>)\n",
      "torch.Size([2, 151, 224, 224])\n",
      "torch.Size([2, 224, 224])\n",
      "LOSS:  tensor(2.1092, grad_fn=<NllLoss2DBackward>)\n",
      "Epoch 2 - Training loss: 2.2810890674591064\n"
     ]
    }
   ],
   "source": [
    "optimizer = torch.optim.SGD(model.parameters(), lr=0.01, momentum=0.9)\n",
    "criterion = torch.nn.CrossEntropyLoss()\n",
    "for i in range(2):\n",
    "    running_loss = 0\n",
    "    for images, labels in train_dataloader:\n",
    "\n",
    "        if torch.cuda.is_available():\n",
    "            images = images.cuda()\n",
    "            labels = labels.cuda()\n",
    "\n",
    "        # Training pass\n",
    "        optimizer.zero_grad()\n",
    "        \n",
    "        output = model(images)['out']\n",
    "        print(output.size())\n",
    "        labels = encode_label(labels)\n",
    "        print(labels.size())\n",
    "        loss = criterion(output, labels)\n",
    "        print(\"LOSS: \", loss)\n",
    "        \n",
    "        #This is where the model learns by backpropagating\n",
    "        loss.backward()\n",
    "        \n",
    "        #And optimizes its weights here\n",
    "        optimizer.step()\n",
    "        \n",
    "        running_loss += loss.item()\n",
    "    \n",
    "    else:\n",
    "        print(\"Epoch {} - Training loss: {}\".format(i+1, running_loss/len(train_dataloader)))"
   ]
  },
  {
   "cell_type": "markdown",
   "metadata": {},
   "source": [
    "## TRAINING LOOP DOC (for Eric)\n",
    "Output of running model for each image is (151, 224, 244) - 150 classes + 0 for background, 224 size of image. Currently using batch size 2 for testing, so each generated sample from dataloader is (batchsize, 151, 244, 244)\n",
    "\n",
    "Label is encoded to be a (244, 244) array of class labels. Classes are adapted to fit top 150 and are mapped ID wise via obj_id_map."
   ]
  },
  {
   "cell_type": "code",
   "execution_count": null,
   "metadata": {},
   "outputs": [],
   "source": []
  }
 ],
 "metadata": {
  "kernelspec": {
   "display_name": "Python 3",
   "language": "python",
   "name": "python3"
  },
  "language_info": {
   "codemirror_mode": {
    "name": "ipython",
    "version": 3
   },
   "file_extension": ".py",
   "mimetype": "text/x-python",
   "name": "python",
   "nbconvert_exporter": "python",
   "pygments_lexer": "ipython3",
   "version": "3.7.4"
  }
 },
 "nbformat": 4,
 "nbformat_minor": 2
}
